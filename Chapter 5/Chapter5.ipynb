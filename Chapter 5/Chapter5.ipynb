{
 "cells": [
  {
   "cell_type": "markdown",
   "id": "69270407",
   "metadata": {},
   "source": [
    "# Chapter 5 - Resampling Methods: Applied Exercises"
   ]
  },
  {
   "cell_type": "code",
   "execution_count": 135,
   "id": "3079cbd4",
   "metadata": {},
   "outputs": [],
   "source": [
    "# import packages\n",
    "import numpy as np\n",
    "import pandas as pd\n",
    "from sklearn.metrics import confusion_matrix\n",
    "from sklearn.model_selection import train_test_split\n",
    "from sklearn.linear_model import LogisticRegression"
   ]
  },
  {
   "cell_type": "code",
   "execution_count": 136,
   "metadata": {},
   "outputs": [],
   "source": [
    "def error_rate(y_test, y_pred):\n",
    "    cm = confusion_matrix(y_test, y_pred)\n",
    "    print(cm)\n",
    "\n",
    "    correctly_classified = cm[0][0] + cm[1][1]\n",
    "    total = np.sum(cm)\n",
    "    percentage = correctly_classified/total*100\n",
    "    error_rate = round(100 - percentage, 4)\n",
    "\n",
    "    print('Error rate in percent:\\t' + str(error_rate) +'%')"
   ]
  },
  {
   "cell_type": "markdown",
   "id": "b0425303",
   "metadata": {},
   "source": [
    "### Exercise 5"
   ]
  },
  {
   "cell_type": "code",
   "execution_count": 137,
   "id": "908fabde",
   "metadata": {},
   "outputs": [
    {
     "data": {
      "text/html": [
       "<div>\n",
       "<style scoped>\n",
       "    .dataframe tbody tr th:only-of-type {\n",
       "        vertical-align: middle;\n",
       "    }\n",
       "\n",
       "    .dataframe tbody tr th {\n",
       "        vertical-align: top;\n",
       "    }\n",
       "\n",
       "    .dataframe thead th {\n",
       "        text-align: right;\n",
       "    }\n",
       "</style>\n",
       "<table border=\"1\" class=\"dataframe\">\n",
       "  <thead>\n",
       "    <tr style=\"text-align: right;\">\n",
       "      <th></th>\n",
       "      <th>Unnamed: 0</th>\n",
       "      <th>default</th>\n",
       "      <th>student</th>\n",
       "      <th>balance</th>\n",
       "      <th>income</th>\n",
       "    </tr>\n",
       "  </thead>\n",
       "  <tbody>\n",
       "    <tr>\n",
       "      <th>0</th>\n",
       "      <td>1</td>\n",
       "      <td>No</td>\n",
       "      <td>No</td>\n",
       "      <td>729.526495</td>\n",
       "      <td>44361.625074</td>\n",
       "    </tr>\n",
       "    <tr>\n",
       "      <th>1</th>\n",
       "      <td>2</td>\n",
       "      <td>No</td>\n",
       "      <td>Yes</td>\n",
       "      <td>817.180407</td>\n",
       "      <td>12106.134700</td>\n",
       "    </tr>\n",
       "    <tr>\n",
       "      <th>2</th>\n",
       "      <td>3</td>\n",
       "      <td>No</td>\n",
       "      <td>No</td>\n",
       "      <td>1073.549164</td>\n",
       "      <td>31767.138947</td>\n",
       "    </tr>\n",
       "    <tr>\n",
       "      <th>3</th>\n",
       "      <td>4</td>\n",
       "      <td>No</td>\n",
       "      <td>No</td>\n",
       "      <td>529.250605</td>\n",
       "      <td>35704.493935</td>\n",
       "    </tr>\n",
       "    <tr>\n",
       "      <th>4</th>\n",
       "      <td>5</td>\n",
       "      <td>No</td>\n",
       "      <td>No</td>\n",
       "      <td>785.655883</td>\n",
       "      <td>38463.495879</td>\n",
       "    </tr>\n",
       "  </tbody>\n",
       "</table>\n",
       "</div>"
      ],
      "text/plain": [
       "   Unnamed: 0 default student      balance        income\n",
       "0           1      No      No   729.526495  44361.625074\n",
       "1           2      No     Yes   817.180407  12106.134700\n",
       "2           3      No      No  1073.549164  31767.138947\n",
       "3           4      No      No   529.250605  35704.493935\n",
       "4           5      No      No   785.655883  38463.495879"
      ]
     },
     "execution_count": 137,
     "metadata": {},
     "output_type": "execute_result"
    }
   ],
   "source": [
    "default = pd.read_csv('data/Default.csv')\n",
    "default.head() # remove unnamed column"
   ]
  },
  {
   "cell_type": "code",
   "execution_count": 138,
   "id": "cb52d52f",
   "metadata": {},
   "outputs": [
    {
     "data": {
      "text/html": [
       "<div>\n",
       "<style scoped>\n",
       "    .dataframe tbody tr th:only-of-type {\n",
       "        vertical-align: middle;\n",
       "    }\n",
       "\n",
       "    .dataframe tbody tr th {\n",
       "        vertical-align: top;\n",
       "    }\n",
       "\n",
       "    .dataframe thead th {\n",
       "        text-align: right;\n",
       "    }\n",
       "</style>\n",
       "<table border=\"1\" class=\"dataframe\">\n",
       "  <thead>\n",
       "    <tr style=\"text-align: right;\">\n",
       "      <th></th>\n",
       "      <th>default</th>\n",
       "      <th>student</th>\n",
       "      <th>balance</th>\n",
       "      <th>income</th>\n",
       "    </tr>\n",
       "  </thead>\n",
       "  <tbody>\n",
       "    <tr>\n",
       "      <th>0</th>\n",
       "      <td>0</td>\n",
       "      <td>0</td>\n",
       "      <td>729.526495</td>\n",
       "      <td>44361.625074</td>\n",
       "    </tr>\n",
       "    <tr>\n",
       "      <th>1</th>\n",
       "      <td>0</td>\n",
       "      <td>1</td>\n",
       "      <td>817.180407</td>\n",
       "      <td>12106.134700</td>\n",
       "    </tr>\n",
       "    <tr>\n",
       "      <th>2</th>\n",
       "      <td>0</td>\n",
       "      <td>0</td>\n",
       "      <td>1073.549164</td>\n",
       "      <td>31767.138947</td>\n",
       "    </tr>\n",
       "    <tr>\n",
       "      <th>3</th>\n",
       "      <td>0</td>\n",
       "      <td>0</td>\n",
       "      <td>529.250605</td>\n",
       "      <td>35704.493935</td>\n",
       "    </tr>\n",
       "    <tr>\n",
       "      <th>4</th>\n",
       "      <td>0</td>\n",
       "      <td>0</td>\n",
       "      <td>785.655883</td>\n",
       "      <td>38463.495879</td>\n",
       "    </tr>\n",
       "  </tbody>\n",
       "</table>\n",
       "</div>"
      ],
      "text/plain": [
       "   default  student      balance        income\n",
       "0        0        0   729.526495  44361.625074\n",
       "1        0        1   817.180407  12106.134700\n",
       "2        0        0  1073.549164  31767.138947\n",
       "3        0        0   529.250605  35704.493935\n",
       "4        0        0   785.655883  38463.495879"
      ]
     },
     "execution_count": 138,
     "metadata": {},
     "output_type": "execute_result"
    }
   ],
   "source": [
    "default.default.replace(('No', 'Yes'), (0,1), inplace=True)\n",
    "default.student.replace(('No', 'Yes'), (0,1), inplace=True)\n",
    "default = default.iloc[:, 1:]\n",
    "default.head()"
   ]
  },
  {
   "cell_type": "code",
   "execution_count": 181,
   "metadata": {},
   "outputs": [
    {
     "data": {
      "text/plain": [
       "0    9667\n",
       "1     333\n",
       "Name: default, dtype: int64"
      ]
     },
     "execution_count": 181,
     "metadata": {},
     "output_type": "execute_result"
    }
   ],
   "source": [
    "# Number of categroies\n",
    "default['default'].nunique()\n",
    "\n",
    "# Count yes and no for default\n",
    "default.groupby('default').count()\n",
    "\n",
    "# more compact counts\n",
    "default.default.value_counts()"
   ]
  },
  {
   "cell_type": "code",
   "execution_count": 168,
   "metadata": {},
   "outputs": [
    {
     "name": "stdout",
     "output_type": "stream",
     "text": [
      "[[9629   38]\n",
      " [ 225  108]]\n",
      "Error rate in percent:\t2.63%\n"
     ]
    }
   ],
   "source": [
    "# a) fit logReg -> default ~ income + balance\n",
    "default_X = default[['income', 'balance']]\n",
    "default_y = default['default']\n",
    "\n",
    "logReg_full = LogisticRegression(penalty='none').fit(default_X, default_y)\n",
    "\n",
    "default_y_predict = logReg_full.predict(default_X)\n",
    "error_rate(default_y, default_y_predict)"
   ]
  },
  {
   "cell_type": "code",
   "execution_count": 171,
   "id": "b891ba95",
   "metadata": {},
   "outputs": [
    {
     "name": "stdout",
     "output_type": "stream",
     "text": [
      "[[4839    2]\n",
      " [ 159    0]]\n",
      "Error rate in percent:\t3.22%\n"
     ]
    }
   ],
   "source": [
    "# b) estimate test error\n",
    "# i) train / test split\n",
    "X_train, X_test, y_train, y_test =  train_test_split(default_X, default_y, test_size=0.5, random_state=42)\n",
    "\n",
    "# ii) Fit multiple logReg\n",
    "logReg_val = LogisticRegression(penalty='none').fit(X_train, y_train)\n",
    "\n",
    "# iii) obtain a prediction of default status for each individual in the validation set\n",
    "y_predict_val = logReg_val.predict(X_test)\n",
    "\n",
    "# iv) compute the validation set error\n",
    "error_rate(y_test, y_predict_val)"
   ]
  },
  {
   "cell_type": "code",
   "execution_count": 173,
   "id": "c39577f6",
   "metadata": {},
   "outputs": [
    {
     "name": "stdout",
     "output_type": "stream",
     "text": [
      "Test size: 0.33\n",
      "[[3179   13]\n",
      " [  78   30]]\n",
      "Error rate in percent:\t2.7576%\n",
      "Test size: 0.4\n",
      "[[3870    2]\n",
      " [ 128    0]]\n",
      "Error rate in percent:\t3.25%\n",
      "Test size: 0.6\n",
      "[[5803    1]\n",
      " [ 196    0]]\n",
      "Error rate in percent:\t3.2833%\n"
     ]
    }
   ],
   "source": [
    "# c) repeat b) three times using three different splits\n",
    "test_sizes = [0.33, 0.4, 0.6]\n",
    "\n",
    "for test_size in test_sizes:\n",
    "    X_train, X_test, y_train, y_test =  train_test_split(default_X, default_y, test_size=test_size, random_state=420)\n",
    "    logReg_val = LogisticRegression(penalty='none').fit(X_train, y_train)\n",
    "    y_predict_val = logReg_val.predict(X_test)\n",
    "    print(f'Test size: {test_size}')\n",
    "    error_rate(y_test, y_predict_val)"
   ]
  },
  {
   "cell_type": "code",
   "execution_count": 182,
   "id": "35214522",
   "metadata": {},
   "outputs": [
    {
     "name": "stdout",
     "output_type": "stream",
     "text": [
      "Test size: 0.33\n",
      "[[3165   27]\n",
      " [  83   25]]\n",
      "Error rate in percent:\t3.3333%\n",
      "Test size: 0.4\n",
      "[[3870    2]\n",
      " [ 128    0]]\n",
      "Error rate in percent:\t3.25%\n",
      "Test size: 0.5\n",
      "[[4796   40]\n",
      " [ 125   39]]\n",
      "Error rate in percent:\t3.3%\n",
      "Test size: 0.6\n",
      "[[5766   38]\n",
      " [ 153   43]]\n",
      "Error rate in percent:\t3.1833%\n"
     ]
    }
   ],
   "source": [
    "# d) fit logReg -> default ~ income + balance + student(0/1) and estimate test error\n",
    "default_X = default[['income', 'balance', 'student']]\n",
    "\n",
    "test_sizes = [0.33, 0.4, 0.5, 0.6]\n",
    "\n",
    "for test_size in test_sizes:\n",
    "    X_train, X_test, y_train, y_test =  train_test_split(default_X, default_y, test_size=test_size, random_state=420)\n",
    "    logReg_val = LogisticRegression(penalty='none').fit(X_train, y_train)\n",
    "    y_predict_val = logReg_val.predict(X_test)\n",
    "    print(f'Test size: {test_size}')\n",
    "    error_rate(y_test, y_predict_val)"
   ]
  },
  {
   "cell_type": "markdown",
   "id": "75cf7a31",
   "metadata": {},
   "source": [
    "### Exercise 6"
   ]
  },
  {
   "cell_type": "code",
   "execution_count": 184,
   "id": "c8d24bc5",
   "metadata": {},
   "outputs": [
    {
     "name": "stdout",
     "output_type": "stream",
     "text": [
      "Optimization terminated successfully.\n",
      "         Current function value: 0.078948\n",
      "         Iterations 10\n",
      "                           Logit Regression Results                           \n",
      "==============================================================================\n",
      "Dep. Variable:                default   No. Observations:                10000\n",
      "Model:                          Logit   Df Residuals:                     9997\n",
      "Method:                           MLE   Df Model:                            2\n",
      "Date:                Fri, 15 Oct 2021   Pseudo R-squ.:                  0.4594\n",
      "Time:                        11:32:16   Log-Likelihood:                -789.48\n",
      "converged:                       True   LL-Null:                       -1460.3\n",
      "Covariance Type:            nonrobust   LLR p-value:                4.541e-292\n",
      "==============================================================================\n",
      "                 coef    std err          z      P>|z|      [0.025      0.975]\n",
      "------------------------------------------------------------------------------\n",
      "const        -11.5405      0.435    -26.544      0.000     -12.393     -10.688\n",
      "income      2.081e-05   4.99e-06      4.174      0.000     1.1e-05    3.06e-05\n",
      "balance        0.0056      0.000     24.835      0.000       0.005       0.006\n",
      "==============================================================================\n",
      "\n",
      "Possibly complete quasi-separation: A fraction 0.14 of observations can be\n",
      "perfectly predicted. This might indicate that there is complete\n",
      "quasi-separation. In this case some parameters will not be identified.\n"
     ]
    }
   ],
   "source": [
    "# a) determine estimated SE for coefficients (logReg -> default ~ income + balance)\n",
    "import statsmodels.api as sm\n",
    "\n",
    "default_X = default[['income', 'balance']]\n",
    "X2 = sm.add_constant(default_X)\n",
    "\n",
    "logReg2 = sm.Logit(default_y, X2).fit()\n",
    "print(logReg2.summary())"
   ]
  },
  {
   "cell_type": "code",
   "execution_count": 196,
   "id": "29c3e6c5",
   "metadata": {},
   "outputs": [
    {
     "name": "stdout",
     "output_type": "stream",
     "text": [
      "Optimization terminated successfully.\n",
      "         Current function value: 0.079979\n",
      "         Iterations 10\n",
      "const     -11.678916\n",
      "income      0.000025\n",
      "balance     0.005774\n",
      "dtype: float64\n"
     ]
    }
   ],
   "source": [
    "# b) write boot.fn() function that outputs the coefficient estimates for income and balance\n",
    "def boot_fn(X, y, index_lower, index_upper):\n",
    "    X = sm.add_constant(X).iloc[index_lower:index_upper, :]\n",
    "    y = y.iloc[index_lower:index_upper]\n",
    "    model = sm.Logit(y, X).fit()\n",
    "\n",
    "    return model.params\n",
    "\n",
    "coef = boot_fn(default_X, default_y, 0, 500)\n",
    "print(coef)\n"
   ]
  },
  {
   "cell_type": "code",
   "execution_count": 211,
   "id": "094bfde3",
   "metadata": {},
   "outputs": [
    {
     "name": "stdout",
     "output_type": "stream",
     "text": [
      "Mean values of const, income, balance\n",
      "-11.551468290392854 2.0458080798937636e-05 0.005651696822938356\n",
      "\n",
      "Std errors of const, income, balance\n",
      "0.4177022491730254 4.9688417441790115e-06 0.0002100551679004928\n"
     ]
    }
   ],
   "source": [
    "# c) use bootstrap to estimate the SEs of the logReg coefficients \n",
    "from sklearn.utils import resample\n",
    "\n",
    "\n",
    "def bootstrap_sample(data):\n",
    "    boots_dataset = resample(data, replace=True, n_samples=len(data))\n",
    "    return boots_dataset\n",
    "\n",
    "\n",
    "def boot_fn(X, y):\n",
    "    X = sm.add_constant(X)\n",
    "    model = sm.Logit(y, X).fit(disp=0)\n",
    "\n",
    "    return model.params\n",
    "\n",
    "\n",
    "def boots_se(alpha):\n",
    "    alpha_mean = np.mean(alpha)\n",
    "    alpha_tilde = 0\n",
    "\n",
    "    for a in alpha:\n",
    "        alpha_tilde += (a - alpha_mean)**2\n",
    "\n",
    "    return np.sqrt(1/(len(alpha)-1) * alpha_tilde)\n",
    "\n",
    "\n",
    "const = []\n",
    "income = []\n",
    "balance = []\n",
    "\n",
    "\n",
    "for b in range(0,100):\n",
    "    boots_set = bootstrap_sample(default)\n",
    "    coef = boot_fn(boots_set[['income', 'balance']], boots_set['default'])\n",
    "\n",
    "    const.append(coef[0])\n",
    "    income.append(coef[1])\n",
    "    balance.append(coef[2])\n",
    "\n",
    "print('Mean values of const, income, balance')\n",
    "print(np.mean(const), np.mean(income), np.mean(balance))\n",
    "print()\n",
    "print('Std errors of const, income, balance')\n",
    "print(boots_se(const), boots_se(income), boots_se(balance))"
   ]
  },
  {
   "cell_type": "code",
   "execution_count": 146,
   "id": "0729a4a8",
   "metadata": {},
   "outputs": [],
   "source": [
    "# d) comment on the estimated standard errors obtained"
   ]
  },
  {
   "cell_type": "markdown",
   "metadata": {},
   "source": [
    "Passt scho - stimmen überein."
   ]
  },
  {
   "cell_type": "markdown",
   "id": "189c8bbb",
   "metadata": {},
   "source": [
    "### Exercise 7"
   ]
  },
  {
   "cell_type": "code",
   "execution_count": 147,
   "id": "ddf5e8c7",
   "metadata": {},
   "outputs": [
    {
     "data": {
      "text/html": [
       "<div>\n",
       "<style scoped>\n",
       "    .dataframe tbody tr th:only-of-type {\n",
       "        vertical-align: middle;\n",
       "    }\n",
       "\n",
       "    .dataframe tbody tr th {\n",
       "        vertical-align: top;\n",
       "    }\n",
       "\n",
       "    .dataframe thead th {\n",
       "        text-align: right;\n",
       "    }\n",
       "</style>\n",
       "<table border=\"1\" class=\"dataframe\">\n",
       "  <thead>\n",
       "    <tr style=\"text-align: right;\">\n",
       "      <th></th>\n",
       "      <th>Year</th>\n",
       "      <th>Lag1</th>\n",
       "      <th>Lag2</th>\n",
       "      <th>Lag3</th>\n",
       "      <th>Lag4</th>\n",
       "      <th>Lag5</th>\n",
       "      <th>Volume</th>\n",
       "      <th>Today</th>\n",
       "      <th>Direction</th>\n",
       "    </tr>\n",
       "  </thead>\n",
       "  <tbody>\n",
       "    <tr>\n",
       "      <th>0</th>\n",
       "      <td>1990</td>\n",
       "      <td>0.816</td>\n",
       "      <td>1.572</td>\n",
       "      <td>-3.936</td>\n",
       "      <td>-0.229</td>\n",
       "      <td>-3.484</td>\n",
       "      <td>0.154976</td>\n",
       "      <td>-0.270</td>\n",
       "      <td>Down</td>\n",
       "    </tr>\n",
       "    <tr>\n",
       "      <th>1</th>\n",
       "      <td>1990</td>\n",
       "      <td>-0.270</td>\n",
       "      <td>0.816</td>\n",
       "      <td>1.572</td>\n",
       "      <td>-3.936</td>\n",
       "      <td>-0.229</td>\n",
       "      <td>0.148574</td>\n",
       "      <td>-2.576</td>\n",
       "      <td>Down</td>\n",
       "    </tr>\n",
       "    <tr>\n",
       "      <th>2</th>\n",
       "      <td>1990</td>\n",
       "      <td>-2.576</td>\n",
       "      <td>-0.270</td>\n",
       "      <td>0.816</td>\n",
       "      <td>1.572</td>\n",
       "      <td>-3.936</td>\n",
       "      <td>0.159837</td>\n",
       "      <td>3.514</td>\n",
       "      <td>Up</td>\n",
       "    </tr>\n",
       "    <tr>\n",
       "      <th>3</th>\n",
       "      <td>1990</td>\n",
       "      <td>3.514</td>\n",
       "      <td>-2.576</td>\n",
       "      <td>-0.270</td>\n",
       "      <td>0.816</td>\n",
       "      <td>1.572</td>\n",
       "      <td>0.161630</td>\n",
       "      <td>0.712</td>\n",
       "      <td>Up</td>\n",
       "    </tr>\n",
       "    <tr>\n",
       "      <th>4</th>\n",
       "      <td>1990</td>\n",
       "      <td>0.712</td>\n",
       "      <td>3.514</td>\n",
       "      <td>-2.576</td>\n",
       "      <td>-0.270</td>\n",
       "      <td>0.816</td>\n",
       "      <td>0.153728</td>\n",
       "      <td>1.178</td>\n",
       "      <td>Up</td>\n",
       "    </tr>\n",
       "  </tbody>\n",
       "</table>\n",
       "</div>"
      ],
      "text/plain": [
       "   Year   Lag1   Lag2   Lag3   Lag4   Lag5    Volume  Today Direction\n",
       "0  1990  0.816  1.572 -3.936 -0.229 -3.484  0.154976 -0.270      Down\n",
       "1  1990 -0.270  0.816  1.572 -3.936 -0.229  0.148574 -2.576      Down\n",
       "2  1990 -2.576 -0.270  0.816  1.572 -3.936  0.159837  3.514        Up\n",
       "3  1990  3.514 -2.576 -0.270  0.816  1.572  0.161630  0.712        Up\n",
       "4  1990  0.712  3.514 -2.576 -0.270  0.816  0.153728  1.178        Up"
      ]
     },
     "execution_count": 147,
     "metadata": {},
     "output_type": "execute_result"
    }
   ],
   "source": [
    "weekly = pd.read_csv('data/Weekly.csv')\n",
    "weekly.head()"
   ]
  },
  {
   "cell_type": "code",
   "execution_count": 148,
   "id": "57c2b824",
   "metadata": {},
   "outputs": [],
   "source": [
    "# a) fit logReg -> Direction ~ Lag1 + Lag2"
   ]
  },
  {
   "cell_type": "code",
   "execution_count": 149,
   "id": "607f932e",
   "metadata": {},
   "outputs": [],
   "source": [
    "# b) fit logReg -> Direction ~ Lag1 + Lag2 with all but the first observation "
   ]
  },
  {
   "cell_type": "code",
   "execution_count": 150,
   "id": "5411bd31",
   "metadata": {},
   "outputs": [],
   "source": [
    "# c) use the model from b= to predict the direction of the first observation; was it classified correctly?"
   ]
  },
  {
   "cell_type": "code",
   "execution_count": 151,
   "id": "25a04331",
   "metadata": {},
   "outputs": [],
   "source": [
    "# d) for loop i-n:\n",
    "# i) fit a logReg \n",
    "# ii) compute the posterior probability of the market moving up for the ith observation\n",
    "# iii) use the posterior probability for the ith observation in order to predict whether or not the market moves up\n",
    "# iv) Determine whether or not an error was made in predicting the direction for the ith observation (1 = error, 0 = none)"
   ]
  },
  {
   "cell_type": "code",
   "execution_count": 152,
   "id": "4ca9cb01",
   "metadata": {},
   "outputs": [],
   "source": [
    "# e) take the avg of the n numbers obtained in d) in order to obtain the LOOCV estimate for the test error"
   ]
  },
  {
   "cell_type": "markdown",
   "id": "35ed8f9b",
   "metadata": {},
   "source": [
    "### Exercise 8"
   ]
  },
  {
   "cell_type": "code",
   "execution_count": 153,
   "id": "25ab3dfb",
   "metadata": {},
   "outputs": [],
   "source": [
    "# a) generate simulated data"
   ]
  },
  {
   "cell_type": "code",
   "execution_count": 154,
   "id": "988a4276",
   "metadata": {},
   "outputs": [],
   "source": [
    "# b) scatterplot of X against Y"
   ]
  },
  {
   "cell_type": "code",
   "execution_count": 155,
   "id": "7114a85b",
   "metadata": {},
   "outputs": [],
   "source": [
    "# c) set a random seed and compute the LOOCV errors\n",
    "# i), ii), iii), iv)"
   ]
  },
  {
   "cell_type": "code",
   "execution_count": 156,
   "id": "f80692dd",
   "metadata": {},
   "outputs": [],
   "source": [
    "# d) repeat c) using a different seed"
   ]
  },
  {
   "cell_type": "code",
   "execution_count": 157,
   "id": "7de81788",
   "metadata": {},
   "outputs": [],
   "source": [
    "# e) which of the models in c) had the smallest LOOCV error?"
   ]
  },
  {
   "cell_type": "code",
   "execution_count": 158,
   "id": "35150046",
   "metadata": {},
   "outputs": [],
   "source": [
    "# f) comment on the statistical significance of the coefficients in c)"
   ]
  },
  {
   "cell_type": "markdown",
   "id": "8f0cabf1",
   "metadata": {},
   "source": [
    "### Exercise 9"
   ]
  },
  {
   "cell_type": "code",
   "execution_count": 159,
   "id": "e8e266c8",
   "metadata": {},
   "outputs": [
    {
     "data": {
      "text/html": [
       "<div>\n",
       "<style scoped>\n",
       "    .dataframe tbody tr th:only-of-type {\n",
       "        vertical-align: middle;\n",
       "    }\n",
       "\n",
       "    .dataframe tbody tr th {\n",
       "        vertical-align: top;\n",
       "    }\n",
       "\n",
       "    .dataframe thead th {\n",
       "        text-align: right;\n",
       "    }\n",
       "</style>\n",
       "<table border=\"1\" class=\"dataframe\">\n",
       "  <thead>\n",
       "    <tr style=\"text-align: right;\">\n",
       "      <th></th>\n",
       "      <th>crim</th>\n",
       "      <th>zn</th>\n",
       "      <th>indus</th>\n",
       "      <th>chas</th>\n",
       "      <th>nox</th>\n",
       "      <th>rm</th>\n",
       "      <th>age</th>\n",
       "      <th>dis</th>\n",
       "      <th>rad</th>\n",
       "      <th>tax</th>\n",
       "      <th>ptratio</th>\n",
       "      <th>lstat</th>\n",
       "      <th>medv</th>\n",
       "    </tr>\n",
       "  </thead>\n",
       "  <tbody>\n",
       "    <tr>\n",
       "      <th>0</th>\n",
       "      <td>0.00632</td>\n",
       "      <td>18.0</td>\n",
       "      <td>2.31</td>\n",
       "      <td>0</td>\n",
       "      <td>0.538</td>\n",
       "      <td>6.575</td>\n",
       "      <td>65.2</td>\n",
       "      <td>4.0900</td>\n",
       "      <td>1</td>\n",
       "      <td>296</td>\n",
       "      <td>15.3</td>\n",
       "      <td>4.98</td>\n",
       "      <td>24.0</td>\n",
       "    </tr>\n",
       "    <tr>\n",
       "      <th>1</th>\n",
       "      <td>0.02731</td>\n",
       "      <td>0.0</td>\n",
       "      <td>7.07</td>\n",
       "      <td>0</td>\n",
       "      <td>0.469</td>\n",
       "      <td>6.421</td>\n",
       "      <td>78.9</td>\n",
       "      <td>4.9671</td>\n",
       "      <td>2</td>\n",
       "      <td>242</td>\n",
       "      <td>17.8</td>\n",
       "      <td>9.14</td>\n",
       "      <td>21.6</td>\n",
       "    </tr>\n",
       "    <tr>\n",
       "      <th>2</th>\n",
       "      <td>0.02729</td>\n",
       "      <td>0.0</td>\n",
       "      <td>7.07</td>\n",
       "      <td>0</td>\n",
       "      <td>0.469</td>\n",
       "      <td>7.185</td>\n",
       "      <td>61.1</td>\n",
       "      <td>4.9671</td>\n",
       "      <td>2</td>\n",
       "      <td>242</td>\n",
       "      <td>17.8</td>\n",
       "      <td>4.03</td>\n",
       "      <td>34.7</td>\n",
       "    </tr>\n",
       "    <tr>\n",
       "      <th>3</th>\n",
       "      <td>0.03237</td>\n",
       "      <td>0.0</td>\n",
       "      <td>2.18</td>\n",
       "      <td>0</td>\n",
       "      <td>0.458</td>\n",
       "      <td>6.998</td>\n",
       "      <td>45.8</td>\n",
       "      <td>6.0622</td>\n",
       "      <td>3</td>\n",
       "      <td>222</td>\n",
       "      <td>18.7</td>\n",
       "      <td>2.94</td>\n",
       "      <td>33.4</td>\n",
       "    </tr>\n",
       "    <tr>\n",
       "      <th>4</th>\n",
       "      <td>0.06905</td>\n",
       "      <td>0.0</td>\n",
       "      <td>2.18</td>\n",
       "      <td>0</td>\n",
       "      <td>0.458</td>\n",
       "      <td>7.147</td>\n",
       "      <td>54.2</td>\n",
       "      <td>6.0622</td>\n",
       "      <td>3</td>\n",
       "      <td>222</td>\n",
       "      <td>18.7</td>\n",
       "      <td>5.33</td>\n",
       "      <td>36.2</td>\n",
       "    </tr>\n",
       "  </tbody>\n",
       "</table>\n",
       "</div>"
      ],
      "text/plain": [
       "      crim    zn  indus  chas    nox     rm   age     dis  rad  tax  ptratio  \\\n",
       "0  0.00632  18.0   2.31     0  0.538  6.575  65.2  4.0900    1  296     15.3   \n",
       "1  0.02731   0.0   7.07     0  0.469  6.421  78.9  4.9671    2  242     17.8   \n",
       "2  0.02729   0.0   7.07     0  0.469  7.185  61.1  4.9671    2  242     17.8   \n",
       "3  0.03237   0.0   2.18     0  0.458  6.998  45.8  6.0622    3  222     18.7   \n",
       "4  0.06905   0.0   2.18     0  0.458  7.147  54.2  6.0622    3  222     18.7   \n",
       "\n",
       "   lstat  medv  \n",
       "0   4.98  24.0  \n",
       "1   9.14  21.6  \n",
       "2   4.03  34.7  \n",
       "3   2.94  33.4  \n",
       "4   5.33  36.2  "
      ]
     },
     "execution_count": 159,
     "metadata": {},
     "output_type": "execute_result"
    }
   ],
   "source": [
    "boston = pd.read_csv('data/Boston.csv')\n",
    "boston.head()"
   ]
  },
  {
   "cell_type": "code",
   "execution_count": 160,
   "id": "ed76ad85",
   "metadata": {},
   "outputs": [],
   "source": [
    "# a) estimate population mean of medv"
   ]
  },
  {
   "cell_type": "code",
   "execution_count": 161,
   "id": "20b0c192",
   "metadata": {},
   "outputs": [],
   "source": [
    "# b) provide an estimate of the standard error of a)"
   ]
  },
  {
   "cell_type": "code",
   "execution_count": 162,
   "id": "742b3dba",
   "metadata": {},
   "outputs": [],
   "source": [
    "# c) estimate SE of a) using bootstrap"
   ]
  },
  {
   "cell_type": "code",
   "execution_count": 163,
   "id": "df714a24",
   "metadata": {},
   "outputs": [],
   "source": [
    "# d) provide a 95% CI based on c) and compare it to t-Test"
   ]
  },
  {
   "cell_type": "code",
   "execution_count": 164,
   "id": "4b79c024",
   "metadata": {},
   "outputs": [],
   "source": [
    "# e) provide an estimate for the median of medv"
   ]
  },
  {
   "cell_type": "code",
   "execution_count": 165,
   "id": "f56bf9c7",
   "metadata": {},
   "outputs": [],
   "source": [
    "# f) estimate SE of median e) using bootstrap"
   ]
  },
  {
   "cell_type": "code",
   "execution_count": 166,
   "id": "bbce180d",
   "metadata": {},
   "outputs": [],
   "source": [
    "# g) provide an estimate for tenth percentile of medv"
   ]
  },
  {
   "cell_type": "code",
   "execution_count": 167,
   "id": "a7961cf0",
   "metadata": {},
   "outputs": [],
   "source": [
    "# h) use bootstrap to estimate SE of g)"
   ]
  }
 ],
 "metadata": {
  "interpreter": {
   "hash": "40d3a090f54c6569ab1632332b64b2c03c39dcf918b08424e98f38b5ae0af88f"
  },
  "kernelspec": {
   "display_name": "Python 3.8.5 64-bit ('base': conda)",
   "name": "python3"
  },
  "language_info": {
   "codemirror_mode": {
    "name": "ipython",
    "version": 3
   },
   "file_extension": ".py",
   "mimetype": "text/x-python",
   "name": "python",
   "nbconvert_exporter": "python",
   "pygments_lexer": "ipython3",
   "version": "3.8.5"
  }
 },
 "nbformat": 4,
 "nbformat_minor": 5
}
